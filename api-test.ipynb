{
 "cells": [
  {
   "cell_type": "code",
   "id": "initial_id",
   "metadata": {
    "collapsed": true,
    "ExecuteTime": {
     "end_time": "2024-07-02T14:54:24.567007Z",
     "start_time": "2024-07-02T14:54:24.561082Z"
    }
   },
   "source": [
    "with open('kimi-api.txt', 'r') as f:\n",
    "    KIMI_API_KEY = f.read().strip()"
   ],
   "outputs": [],
   "execution_count": 6
  },
  {
   "metadata": {
    "ExecuteTime": {
     "end_time": "2024-07-02T13:42:25.351560Z",
     "start_time": "2024-07-02T13:42:18.080054Z"
    }
   },
   "cell_type": "code",
   "source": [
    "from openai import OpenAI\n",
    "\n",
    "client = OpenAI(\n",
    "    # 👇 这里指定 Kimi 的 API Key\n",
    "    api_key=f\"{KIMI_API_KEY}\",\n",
    "\n",
    "    # 👇 这里指定 Kimi 的 API 地址\n",
    "    base_url=\"https://api.moonshot.cn/v1\",\n",
    ")\n",
    "\n",
    "completion = client.chat.completions.create(\n",
    "    # 👇 这里指定 Kimi 的模型名称\n",
    "    model=\"moonshot-v1-8k\",\n",
    "\n",
    "    messages=[\n",
    "        { \"role\": \"user\", \"content\": \"Please answer all my questions in English. Generate a random Business Model Canvas (BMC). Only output the BMC, without additional explanation.\" }\n",
    "    ],\n",
    ")"
   ],
   "id": "14c69055831d7bd2",
   "outputs": [],
   "execution_count": 2
  },
  {
   "metadata": {
    "ExecuteTime": {
     "end_time": "2024-07-02T14:31:36.714695Z",
     "start_time": "2024-07-02T14:31:36.709238Z"
    }
   },
   "cell_type": "code",
   "source": "completion.choices[0].message.content",
   "id": "56c194685b2a59b4",
   "outputs": [
    {
     "data": {
      "text/plain": [
       "\"Sure, here's a random Business Model Canvas:\\n\\n1. Key Partners: Strategic alliances with industry leaders\\n2. Key Activities: Product development, marketing, and sales\\n3. Key Resources: Intellectual property, skilled employees, and technology infrastructure\\n4. Value Proposition: High-quality products that meet customer needs\\n5. Customer Segments: Target market is businesses and consumers\\n6. Channels: Online and offline sales channels, including retail and wholesale\\n7. Customer Relationships: Personalized customer service and support\\n8. Revenue Streams: Sales of products and services, subscription fees, and licensing agreements\\n9. Cost Structure: Production costs, marketing expenses, and employee salaries\\n10. Key Metrics: Sales revenue, customer satisfaction, and market share.\""
      ]
     },
     "execution_count": 5,
     "metadata": {},
     "output_type": "execute_result"
    }
   ],
   "execution_count": 5
  },
  {
   "metadata": {},
   "cell_type": "code",
   "outputs": [],
   "execution_count": null,
   "source": "",
   "id": "ce8d11930822d5dc"
  }
 ],
 "metadata": {
  "kernelspec": {
   "display_name": "Python 3",
   "language": "python",
   "name": "python3"
  },
  "language_info": {
   "codemirror_mode": {
    "name": "ipython",
    "version": 2
   },
   "file_extension": ".py",
   "mimetype": "text/x-python",
   "name": "python",
   "nbconvert_exporter": "python",
   "pygments_lexer": "ipython2",
   "version": "2.7.6"
  }
 },
 "nbformat": 4,
 "nbformat_minor": 5
}
