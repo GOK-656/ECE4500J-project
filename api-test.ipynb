{
 "cells": [
  {
   "cell_type": "code",
   "id": "initial_id",
   "metadata": {
    "collapsed": true,
    "ExecuteTime": {
     "end_time": "2024-07-30T14:00:53.358760Z",
     "start_time": "2024-07-30T14:00:53.351249Z"
    }
   },
   "source": [
    "with open('kimi-api.txt', 'r') as f:\n",
    "    KIMI_API_KEY = f.read().strip()"
   ],
   "outputs": [],
   "execution_count": 1
  },
  {
   "cell_type": "code",
   "id": "14c69055831d7bd2",
   "metadata": {
    "ExecuteTime": {
     "end_time": "2024-07-30T14:11:36.220872Z",
     "start_time": "2024-07-30T14:11:23.405114Z"
    }
   },
   "source": [
    "from openai import OpenAI\n",
    "\n",
    "client = OpenAI(\n",
    "    # 👇 这里指定 Kimi 的 API Key\n",
    "    api_key=f\"{KIMI_API_KEY}\",\n",
    "\n",
    "    # 👇 这里指定 Kimi 的 API 地址\n",
    "    base_url=\"https://api.moonshot.cn/v1\",\n",
    ")\n",
    "\n",
    "# completion = client.chat.completions.create(\n",
    "#     # 👇 这里指定 Kimi 的模型名称\n",
    "#     model=\"moonshot-v1-8k\",\n",
    "# \n",
    "#     messages=[\n",
    "#         { \"role\": \"user\", \"content\": \"Please answer all my questions in English. Generate a random Business Model Canvas (BMC). Only output the BMC, without additional explanation.\" }\n",
    "#     ],\n",
    "# )\n",
    "completion = client.chat.completions.create(\n",
    "        # 👇 这里指定 Kimi 的模型名称\n",
    "        model=\"moonshot-v1-8k\",\n",
    "\n",
    "        # messages=[\n",
    "        #     {\"role\": \"user\",\n",
    "        #      \"content\": 'Generate a random Business Model Canvas. ' + 'According to the information above, construct a Business Canvas Model. '\n",
    "        #                           'Return as json format for each of the keys: key_partners, key_activities, '\n",
    "        #                           'key_resources, value_proposition, customer_relationship, channels, customer_segments'\n",
    "        #                           ', cost_structure, revenue_streams.'}\n",
    "        # ],\n",
    "        messages=[{'role': 'system', 'content': 'You are a professional business consultant. You are helping a client to build a business model canvas (BMC). You should return as json format for each of the keys: key_partners, key_activities, key_resources, value_propositions, customer_relationships, channels, customer_segments, cost_structure, revenue_streams according to the information provided. Each key should be a list of strings. The client will provide you with the information needed to generate the BMC. You should generate the BMC based on the information provided by the client. If the client asks you to modify a specific key, you should modify that key and keep everything else unchanged. '}, {'role': 'user', 'content': 'Generate a random Business Model Canvas.'}],\n",
    "\n",
    "\n",
    "        response_format={\"type\": \"json_object\"},\n",
    "        n=1\n",
    "\n",
    "    )"
   ],
   "outputs": [],
   "execution_count": 16
  },
  {
   "metadata": {
    "ExecuteTime": {
     "end_time": "2024-07-30T14:11:38.121163Z",
     "start_time": "2024-07-30T14:11:38.116401Z"
    }
   },
   "cell_type": "code",
   "source": "completion.choices[0].message",
   "id": "80216dd25b9b5e67",
   "outputs": [
    {
     "data": {
      "text/plain": [
       "ChatCompletionMessage(content='{\\n  \"key_partners\": [\"Strategic Alliances\", \"Joint Ventures\", \"Suppliers\"],\\n  \"key_activities\": [\"Product Development\", \"Marketing\", \"Customer Service\"],\\n  \"key_resources\": [\"Human Resources\", \"Intellectual Property\", \"Physical Assets\"],\\n  \"value_propositions\": [\"Quality\", \"Innovation\", \"Customer Satisfaction\"],\\n  \"customer_relationships\": [\"Personal Assistance\", \"Loyalty Programs\", \"Community Engagement\"],\\n  \"channels\": [\"Online Platforms\", \"Retail Stores\", \"Social Media\"],\\n  \"customer_segments\": [\"Consumers\", \"Businesses\", \"Governments\"],\\n  \"cost_structure\": [\"Production Costs\", \"Operational Costs\", \"Marketing and Sales Expenses\"],\\n  \"revenue_streams\": [\"Product Sales\", \"Subscription Fees\", \"Advertising Revenue\"]\\n}', role='assistant', function_call=None, tool_calls=None)"
      ]
     },
     "execution_count": 17,
     "metadata": {},
     "output_type": "execute_result"
    }
   ],
   "execution_count": 17
  },
  {
   "cell_type": "code",
   "id": "56c194685b2a59b4",
   "metadata": {
    "ExecuteTime": {
     "end_time": "2024-07-30T14:01:15.987073Z",
     "start_time": "2024-07-30T14:01:15.978528Z"
    }
   },
   "source": [
    "import json\n",
    "\n",
    "json.loads(completion.choices[0].message.content)"
   ],
   "outputs": [
    {
     "data": {
      "text/plain": [
       "{'key_partners': ['Local farmers and suppliers',\n",
       "  'Eco-friendly packaging manufacturers',\n",
       "  'Online marketing agencies'],\n",
       " 'key_activities': ['Sourcing high-quality organic ingredients',\n",
       "  'Developing unique recipes',\n",
       "  'Ensuring sustainable and ethical production practices',\n",
       "  'Building a strong online presence and community'],\n",
       " 'key_resources': ['Organic ingredients',\n",
       "  'Production facilities',\n",
       "  'Eco-friendly packaging materials',\n",
       "  'Online marketing and sales channels'],\n",
       " 'value_proposition': 'Offering a unique and healthy snack option made from organic ingredients, promoting sustainable and ethical production practices.',\n",
       " 'customer_relationship': 'Building a strong online community and providing excellent customer service to maintain customer loyalty and satisfaction.',\n",
       " 'channels': ['E-commerce website',\n",
       "  'Social media platforms',\n",
       "  'Influencer marketing',\n",
       "  'Online advertising'],\n",
       " 'customer_segments': ['Health-conscious consumers',\n",
       "  'Vegetarians and vegans',\n",
       "  'Eco-conscious consumers',\n",
       "  'Parents looking for healthy snacks for their children'],\n",
       " 'cost_structure': ['Ingredient sourcing and procurement',\n",
       "  'Production and manufacturing costs',\n",
       "  'Eco-friendly packaging materials',\n",
       "  'Online marketing and advertising expenses',\n",
       "  'Research and development for new products'],\n",
       " 'revenue_streams': ['Sales of organic snack products through the e-commerce website',\n",
       "  'Wholesale distribution to local and online retailers',\n",
       "  'Subscription-based snack box service',\n",
       "  'Partnerships with health and wellness influencers for sponsored content']}"
      ]
     },
     "execution_count": 3,
     "metadata": {},
     "output_type": "execute_result"
    }
   ],
   "execution_count": 3
  },
  {
   "cell_type": "code",
   "execution_count": null,
   "id": "4af9e24eb4df8a4c",
   "metadata": {},
   "outputs": [],
   "source": ""
  }
 ],
 "metadata": {
  "kernelspec": {
   "display_name": "Python 3.12.3 64-bit",
   "language": "python",
   "name": "python3"
  },
  "language_info": {
   "codemirror_mode": {
    "name": "ipython",
    "version": 2
   },
   "file_extension": ".py",
   "mimetype": "text/x-python",
   "name": "python",
   "nbconvert_exporter": "python",
   "pygments_lexer": "ipython2",
   "version": "3.12.3"
  },
  "vscode": {
   "interpreter": {
    "hash": "b0fa6594d8f4cbf19f97940f81e996739fb7646882a419484c72d19e05852a7e"
   }
  }
 },
 "nbformat": 4,
 "nbformat_minor": 5
}
